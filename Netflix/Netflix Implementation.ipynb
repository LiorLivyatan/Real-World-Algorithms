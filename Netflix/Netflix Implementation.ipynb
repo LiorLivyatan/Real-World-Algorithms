{
 "cells": [
  {
   "cell_type": "markdown",
   "metadata": {
    "nbgrader": {
     "grade": false,
     "grade_id": "cell-35def0d0f4b47a0a",
     "locked": true,
     "schema_version": 1,
     "solution": false
    }
   },
   "source": [
    "# Exercise 3: Netflix Recommendation Algorithm"
   ]
  },
  {
   "attachments": {
    "image-3.png": {
     "image/png": "[encoded data removed]"
    }
   },
   "cell_type": "markdown",
   "metadata": {},
   "source": [
    "![image-3.png](attachment:image-3.png)"
   ]
  },
  {
   "cell_type": "markdown",
   "metadata": {},
   "source": [
    "### Do not start the exercise until you fully understand the submission guidelines, which can be found herehttps://docs.google.com/document/d/1Qip08JKIppVX6dGX4hkrUCPgRmgkWYmQLEDZY_yZi90/edit?usp=sharing\n",
    "\n",
    "#### For any material-related-questions, ask Ami.  For any organization-related-questions, ask the TA.\n",
    "\n",
    "## Read the following instructions carefully:\n",
    "\n",
    "\n",
    "1. Write your functions in this notebook only. **Do not create Python modules and import them**.\n",
    "    1. Feel free to add code blocks if you need.\n",
    "1. Answers to qualitative questions should be written in **markdown** cells (with $\\LaTeX$ support). Answers that will be written in commented code blocks will **not** be checked.\n",
    "1. Kind reminder: the total of all exercises weight is 50% of the course's grade!\n",
    "\n",
    "## This exercise summarizes the following subjects:\n",
    "1. Netflix's personal recommendations algorithm:\n",
    "    1. Content Filtering\n",
    "    1. Collaborative Filtering\n",
    "    1. Filling missing values in the Rating Matrix\n",
    "    1. Matrix Factorization\n",
    "    1. Data correlation finding approaches: SVD, PCA \n",
    "1. Applications of SVD and PCA:\n",
    "    1. Face images compression and recognition using PCA\n",
    "    1. Hand written digits recognition using SVD/PCA\n",
    "    1. Correlations detection of mutations in the genom and different populations using SVD/PCA"
   ]
  },
  {
   "cell_type": "markdown",
   "metadata": {
    "nbgrader": {
     "grade": false,
     "grade_id": "cell-916f46de8cde2ca7",
     "locked": true,
     "schema_version": 1,
     "solution": false
    }
   },
   "source": [
    "# Part I: Netflix's Recommendations Algorithm\n",
    "\n",
    "We demonstrated in class how to find similar movies (and recommend movies to a user, similar to a movie he likes), using **Ratings Matrix** where a list of users partially rated a list of movies. In class, we demonstarted 2 ways to handle the Rating Matrix using Excel sheets:\n",
    "\n",
    "1. Calculate similarities (distances) between movies using the 1 to 5 rating values.\n",
    "2. Turn the Rating Matrix into a **boolean** matrix where R(i,j)=TRUE if User i rated movie j above some threshold TH (1<=TH<=5).\n",
    "Note that if TH=1 we get a rating matrix where **any** rating of a movie become TRUE in the boolean rating matrix. As mentioned in class, even such elementary representation is, supresingly, good data to work with."
   ]
  },
  {
   "cell_type": "code",
   "execution_count": 1,
   "metadata": {
    "nbgrader": {
     "grade": false,
     "grade_id": "cell-5ed0076cec86f623",
     "locked": true,
     "schema_version": 1,
     "solution": false
    }
   },
   "outputs": [],
   "source": [
    "# imports\n",
    "import numpy as np\n",
    "import matplotlib.pyplot as plt\n",
    "import csv\n",
    "import pandas as pd\n",
    "\n",
    "# make matplotlib figures appear inline in the notebook\n",
    "%matplotlib inline\n",
    "plt.rcParams['figure.figsize'] = (14.0, 8.0) # set default size of plots\n",
    "plt.rcParams['image.interpolation'] = 'nearest'\n",
    "plt.rcParams['image.cmap'] = 'gray'"
   ]
  },
  {
   "cell_type": "markdown",
   "metadata": {},
   "source": [
    "## Question 1 (20 points)\n",
    "\n",
    "Write a code, based on the students' rating matrix (attatched to the homework assignment file: *our_course_ratings.csv*), to generate recommendations <ins>exactly</ins> as we demonstrated in class. That is, first translate the rating matrix to a boolean matrix using TH as a parameter in the code (use: TH=3 when you run the code. That is, ratings >= TH are marked TRUE, all other ratings, and non-ratings (zero values in the rating matrix) are FALSE. Make sure you allow to change TH to any new value from 1 to 5). Then, with the boolean rating matrix, your code will ask the user to enter a movie he liked, and present few movies that are most similar, and therefeore recommended for the user to watch.\n",
    "\n",
    "Perform the task in the following sequence of operations."
   ]
  },
  {
   "cell_type": "markdown",
   "metadata": {
    "nbgrader": {
     "grade": false,
     "grade_id": "cell-6966afc155aa6616",
     "locked": true,
     "schema_version": 1,
     "solution": false
    }
   },
   "source": [
    "#### 1.1 Read the Rating Matrix data (5 points)\n",
    "Read the students' ratings matrix."
   ]
  },
  {
   "cell_type": "code",
   "execution_count": 2,
   "metadata": {
    "scrolled": false
   },
   "outputs": [
    {
     "data": {
      "text/html": [
       "<div>\n",
       "<style scoped>\n",
       "    .dataframe tbody tr th:only-of-type {\n",
       "        vertical-align: middle;\n",
       "    }\n",
       "\n",
       "    .dataframe tbody tr th {\n",
       "        vertical-align: top;\n",
       "    }\n",
       "\n",
       "    .dataframe thead th {\n",
       "        text-align: right;\n",
       "    }\n",
       "</style>\n",
       "<table border=\"1\" class=\"dataframe\">\n",
       "  <thead>\n",
       "    <tr style=\"text-align: right;\">\n",
       "      <th></th>\n",
       "      <th>Adi Z</th>\n",
       "      <th>Adir A</th>\n",
       "      <th>Amit E</th>\n",
       "      <th>Amit N</th>\n",
       "      <th>Amit Z</th>\n",
       "      <th>Artsi S</th>\n",
       "      <th>Asif A</th>\n",
       "      <th>Ami S</th>\n",
       "      <th>Barak A</th>\n",
       "      <th>Ben M</th>\n",
       "      <th>...</th>\n",
       "      <th>Tamir K</th>\n",
       "      <th>Tomer F</th>\n",
       "      <th>Yoav F</th>\n",
       "      <th>Yonatan L</th>\n",
       "      <th>Yuval D</th>\n",
       "      <th>Nir D</th>\n",
       "      <th>Nir K</th>\n",
       "      <th>ClassicUser</th>\n",
       "      <th>Anim-child</th>\n",
       "      <th>Action-Fict</th>\n",
       "    </tr>\n",
       "  </thead>\n",
       "  <tbody>\n",
       "    <tr>\n",
       "      <th>1</th>\n",
       "      <td>4.0</td>\n",
       "      <td>3.0</td>\n",
       "      <td>3.0</td>\n",
       "      <td>4.0</td>\n",
       "      <td>3.0</td>\n",
       "      <td>0.0</td>\n",
       "      <td>0.0</td>\n",
       "      <td>5.0</td>\n",
       "      <td>5.0</td>\n",
       "      <td>0.0</td>\n",
       "      <td>...</td>\n",
       "      <td>0.0</td>\n",
       "      <td>3.0</td>\n",
       "      <td>2.0</td>\n",
       "      <td>0.0</td>\n",
       "      <td>1.0</td>\n",
       "      <td>0.0</td>\n",
       "      <td>0.0</td>\n",
       "      <td>0.0</td>\n",
       "      <td>0.0</td>\n",
       "      <td>5.0</td>\n",
       "    </tr>\n",
       "    <tr>\n",
       "      <th>2</th>\n",
       "      <td>0.0</td>\n",
       "      <td>0.0</td>\n",
       "      <td>4.0</td>\n",
       "      <td>4.0</td>\n",
       "      <td>0.0</td>\n",
       "      <td>0.0</td>\n",
       "      <td>3.0</td>\n",
       "      <td>1.0</td>\n",
       "      <td>5.0</td>\n",
       "      <td>0.0</td>\n",
       "      <td>...</td>\n",
       "      <td>0.0</td>\n",
       "      <td>0.0</td>\n",
       "      <td>0.0</td>\n",
       "      <td>4.0</td>\n",
       "      <td>2.0</td>\n",
       "      <td>0.0</td>\n",
       "      <td>0.0</td>\n",
       "      <td>0.0</td>\n",
       "      <td>0.0</td>\n",
       "      <td>5.0</td>\n",
       "    </tr>\n",
       "    <tr>\n",
       "      <th>3</th>\n",
       "      <td>4.0</td>\n",
       "      <td>0.0</td>\n",
       "      <td>3.0</td>\n",
       "      <td>5.0</td>\n",
       "      <td>3.0</td>\n",
       "      <td>4.0</td>\n",
       "      <td>4.0</td>\n",
       "      <td>1.0</td>\n",
       "      <td>4.0</td>\n",
       "      <td>0.0</td>\n",
       "      <td>...</td>\n",
       "      <td>1.0</td>\n",
       "      <td>0.0</td>\n",
       "      <td>3.0</td>\n",
       "      <td>5.0</td>\n",
       "      <td>4.0</td>\n",
       "      <td>0.0</td>\n",
       "      <td>0.0</td>\n",
       "      <td>0.0</td>\n",
       "      <td>0.0</td>\n",
       "      <td>0.0</td>\n",
       "    </tr>\n",
       "    <tr>\n",
       "      <th>4</th>\n",
       "      <td>0.0</td>\n",
       "      <td>0.0</td>\n",
       "      <td>3.0</td>\n",
       "      <td>0.0</td>\n",
       "      <td>0.0</td>\n",
       "      <td>0.0</td>\n",
       "      <td>0.0</td>\n",
       "      <td>3.0</td>\n",
       "      <td>3.0</td>\n",
       "      <td>0.0</td>\n",
       "      <td>...</td>\n",
       "      <td>0.0</td>\n",
       "      <td>0.0</td>\n",
       "      <td>0.0</td>\n",
       "      <td>4.0</td>\n",
       "      <td>2.0</td>\n",
       "      <td>0.0</td>\n",
       "      <td>0.0</td>\n",
       "      <td>0.0</td>\n",
       "      <td>0.0</td>\n",
       "      <td>5.0</td>\n",
       "    </tr>\n",
       "    <tr>\n",
       "      <th>5</th>\n",
       "      <td>0.0</td>\n",
       "      <td>0.0</td>\n",
       "      <td>4.0</td>\n",
       "      <td>4.0</td>\n",
       "      <td>0.0</td>\n",
       "      <td>0.0</td>\n",
       "      <td>0.0</td>\n",
       "      <td>1.0</td>\n",
       "      <td>5.0</td>\n",
       "      <td>0.0</td>\n",
       "      <td>...</td>\n",
       "      <td>0.0</td>\n",
       "      <td>0.0</td>\n",
       "      <td>0.0</td>\n",
       "      <td>5.0</td>\n",
       "      <td>2.0</td>\n",
       "      <td>0.0</td>\n",
       "      <td>0.0</td>\n",
       "      <td>0.0</td>\n",
       "      <td>0.0</td>\n",
       "      <td>5.0</td>\n",
       "    </tr>\n",
       "    <tr>\n",
       "      <th>...</th>\n",
       "      <td>...</td>\n",
       "      <td>...</td>\n",
       "      <td>...</td>\n",
       "      <td>...</td>\n",
       "      <td>...</td>\n",
       "      <td>...</td>\n",
       "      <td>...</td>\n",
       "      <td>...</td>\n",
       "      <td>...</td>\n",
       "      <td>...</td>\n",
       "      <td>...</td>\n",
       "      <td>...</td>\n",
       "      <td>...</td>\n",
       "      <td>...</td>\n",
       "      <td>...</td>\n",
       "      <td>...</td>\n",
       "      <td>...</td>\n",
       "      <td>...</td>\n",
       "      <td>...</td>\n",
       "      <td>...</td>\n",
       "      <td>...</td>\n",
       "    </tr>\n",
       "    <tr>\n",
       "      <th>330</th>\n",
       "      <td>0.0</td>\n",
       "      <td>0.0</td>\n",
       "      <td>0.0</td>\n",
       "      <td>0.0</td>\n",
       "      <td>0.0</td>\n",
       "      <td>0.0</td>\n",
       "      <td>0.0</td>\n",
       "      <td>0.0</td>\n",
       "      <td>0.0</td>\n",
       "      <td>0.0</td>\n",
       "      <td>...</td>\n",
       "      <td>0.0</td>\n",
       "      <td>0.0</td>\n",
       "      <td>0.0</td>\n",
       "      <td>0.0</td>\n",
       "      <td>0.0</td>\n",
       "      <td>0.0</td>\n",
       "      <td>0.0</td>\n",
       "      <td>0.0</td>\n",
       "      <td>0.0</td>\n",
       "      <td>0.0</td>\n",
       "    </tr>\n",
       "    <tr>\n",
       "      <th>331</th>\n",
       "      <td>0.0</td>\n",
       "      <td>0.0</td>\n",
       "      <td>0.0</td>\n",
       "      <td>0.0</td>\n",
       "      <td>0.0</td>\n",
       "      <td>3.0</td>\n",
       "      <td>0.0</td>\n",
       "      <td>4.0</td>\n",
       "      <td>0.0</td>\n",
       "      <td>0.0</td>\n",
       "      <td>...</td>\n",
       "      <td>0.0</td>\n",
       "      <td>0.0</td>\n",
       "      <td>0.0</td>\n",
       "      <td>0.0</td>\n",
       "      <td>0.0</td>\n",
       "      <td>0.0</td>\n",
       "      <td>0.0</td>\n",
       "      <td>0.0</td>\n",
       "      <td>5.0</td>\n",
       "      <td>0.0</td>\n",
       "    </tr>\n",
       "    <tr>\n",
       "      <th>332</th>\n",
       "      <td>0.0</td>\n",
       "      <td>0.0</td>\n",
       "      <td>0.0</td>\n",
       "      <td>0.0</td>\n",
       "      <td>0.0</td>\n",
       "      <td>0.0</td>\n",
       "      <td>0.0</td>\n",
       "      <td>0.0</td>\n",
       "      <td>0.0</td>\n",
       "      <td>0.0</td>\n",
       "      <td>...</td>\n",
       "      <td>0.0</td>\n",
       "      <td>0.0</td>\n",
       "      <td>0.0</td>\n",
       "      <td>0.0</td>\n",
       "      <td>0.0</td>\n",
       "      <td>0.0</td>\n",
       "      <td>0.0</td>\n",
       "      <td>0.0</td>\n",
       "      <td>0.0</td>\n",
       "      <td>0.0</td>\n",
       "    </tr>\n",
       "    <tr>\n",
       "      <th>333</th>\n",
       "      <td>0.0</td>\n",
       "      <td>0.0</td>\n",
       "      <td>0.0</td>\n",
       "      <td>0.0</td>\n",
       "      <td>0.0</td>\n",
       "      <td>0.0</td>\n",
       "      <td>0.0</td>\n",
       "      <td>5.0</td>\n",
       "      <td>0.0</td>\n",
       "      <td>0.0</td>\n",
       "      <td>...</td>\n",
       "      <td>0.0</td>\n",
       "      <td>0.0</td>\n",
       "      <td>0.0</td>\n",
       "      <td>0.0</td>\n",
       "      <td>0.0</td>\n",
       "      <td>0.0</td>\n",
       "      <td>0.0</td>\n",
       "      <td>0.0</td>\n",
       "      <td>0.0</td>\n",
       "      <td>0.0</td>\n",
       "    </tr>\n",
       "    <tr>\n",
       "      <th>334</th>\n",
       "      <td>0.0</td>\n",
       "      <td>0.0</td>\n",
       "      <td>0.0</td>\n",
       "      <td>0.0</td>\n",
       "      <td>0.0</td>\n",
       "      <td>0.0</td>\n",
       "      <td>0.0</td>\n",
       "      <td>0.0</td>\n",
       "      <td>0.0</td>\n",
       "      <td>0.0</td>\n",
       "      <td>...</td>\n",
       "      <td>0.0</td>\n",
       "      <td>0.0</td>\n",
       "      <td>0.0</td>\n",
       "      <td>0.0</td>\n",
       "      <td>0.0</td>\n",
       "      <td>0.0</td>\n",
       "      <td>0.0</td>\n",
       "      <td>0.0</td>\n",
       "      <td>0.0</td>\n",
       "      <td>0.0</td>\n",
       "    </tr>\n",
       "  </tbody>\n",
       "</table>\n",
       "<p>334 rows × 60 columns</p>\n",
       "</div>"
      ],
      "text/plain": [
       "     Adi Z  Adir A  Amit E  Amit N  Amit Z  Artsi S  Asif A  Ami S  Barak A  \\\n",
       "1      4.0     3.0     3.0     4.0     3.0      0.0     0.0    5.0      5.0   \n",
       "2      0.0     0.0     4.0     4.0     0.0      0.0     3.0    1.0      5.0   \n",
       "3      4.0     0.0     3.0     5.0     3.0      4.0     4.0    1.0      4.0   \n",
       "4      0.0     0.0     3.0     0.0     0.0      0.0     0.0    3.0      3.0   \n",
       "5      0.0     0.0     4.0     4.0     0.0      0.0     0.0    1.0      5.0   \n",
       "..     ...     ...     ...     ...     ...      ...     ...    ...      ...   \n",
       "330    0.0     0.0     0.0     0.0     0.0      0.0     0.0    0.0      0.0   \n",
       "331    0.0     0.0     0.0     0.0     0.0      3.0     0.0    4.0      0.0   \n",
       "332    0.0     0.0     0.0     0.0     0.0      0.0     0.0    0.0      0.0   \n",
       "333    0.0     0.0     0.0     0.0     0.0      0.0     0.0    5.0      0.0   \n",
       "334    0.0     0.0     0.0     0.0     0.0      0.0     0.0    0.0      0.0   \n",
       "\n",
       "     Ben M  ...  Tamir K  Tomer F  Yoav F  Yonatan L  Yuval D  Nir D  Nir K  \\\n",
       "1      0.0  ...      0.0      3.0     2.0        0.0      1.0    0.0    0.0   \n",
       "2      0.0  ...      0.0      0.0     0.0        4.0      2.0    0.0    0.0   \n",
       "3      0.0  ...      1.0      0.0     3.0        5.0      4.0    0.0    0.0   \n",
       "4      0.0  ...      0.0      0.0     0.0        4.0      2.0    0.0    0.0   \n",
       "5      0.0  ...      0.0      0.0     0.0        5.0      2.0    0.0    0.0   \n",
       "..     ...  ...      ...      ...     ...        ...      ...    ...    ...   \n",
       "330    0.0  ...      0.0      0.0     0.0        0.0      0.0    0.0    0.0   \n",
       "331    0.0  ...      0.0      0.0     0.0        0.0      0.0    0.0    0.0   \n",
       "332    0.0  ...      0.0      0.0     0.0        0.0      0.0    0.0    0.0   \n",
       "333    0.0  ...      0.0      0.0     0.0        0.0      0.0    0.0    0.0   \n",
       "334    0.0  ...      0.0      0.0     0.0        0.0      0.0    0.0    0.0   \n",
       "\n",
       "     ClassicUser  Anim-child  Action-Fict  \n",
       "1            0.0         0.0          5.0  \n",
       "2            0.0         0.0          5.0  \n",
       "3            0.0         0.0          0.0  \n",
       "4            0.0         0.0          5.0  \n",
       "5            0.0         0.0          5.0  \n",
       "..           ...         ...          ...  \n",
       "330          0.0         0.0          0.0  \n",
       "331          0.0         5.0          0.0  \n",
       "332          0.0         0.0          0.0  \n",
       "333          0.0         0.0          0.0  \n",
       "334          0.0         0.0          0.0  \n",
       "\n",
       "[334 rows x 60 columns]"
      ]
     },
     "execution_count": 2,
     "metadata": {},
     "output_type": "execute_result"
    }
   ],
   "source": [
    "###########################################################################\n",
    "#                            START OF YOUR CODE                           #\n",
    "###########################################################################\n",
    "# Fill the Rating matrix, M, with data from the CSV file.\n",
    "# Matrix Pre Proccesing\n",
    "df = pd.read_csv('our_course_ratings.csv', na_values='#DIV/0!')\n",
    "df = df.fillna(0)\n",
    "movieNames = df.iloc[2:,1]\n",
    "movieNames.index -= 1\n",
    "df = df.iloc[2:,2:]\n",
    "df = df.reset_index().drop('index', axis=1)\n",
    "df.index += 1\n",
    "M = df\n",
    "userNames = list(M.columns)[:-3]\n",
    "###########################################################################\n",
    "#                             END OF YOUR CODE                            #\n",
    "###########################################################################\n",
    "M"
   ]
  },
  {
   "cell_type": "markdown",
   "metadata": {
    "nbgrader": {
     "grade": false,
     "grade_id": "cell-6966afc155aa6616",
     "locked": true,
     "schema_version": 1,
     "solution": false
    }
   },
   "source": [
    "#### 1.2 Recommendation algorithm implementation (15 points)\n",
    "Implement the recommendation algorithm as we have seen in class. You can look at the excel and the calculations we did in it to create a \"python version\" of the algorithm.\n",
    "\n",
    "Implement **GetUserFavoriteMovie()** :\n",
    "1. Ask the user to enter a valid movieID.\n",
    "1. Check it is valid (<u>do not</u> let the code crash or error if a value too high or too low or not an integer is entered by the user).\n",
    "1. If it is valid user_movieID, print the user_movie_name (The complete string, as written in the excel sheet \"Movie list\").\n",
    "1. Validate with the user this **is** the movie they liked.\n",
    "1. If user changed his mind, allow him to enter **new** user_movieID and validate again in a loop until user confirms the user_movieID chosen.\n",
    "1. Return the final user_movieID."
   ]
  },
  {
   "cell_type": "code",
   "execution_count": 3,
   "metadata": {},
   "outputs": [],
   "source": [
    "def GetUserFavoriteMovie() -> int:\n",
    "    user_movie_name = None\n",
    "    user_movieID = None\n",
    "    ###########################################################################\n",
    "    #                            START OF YOUR CODE                           #\n",
    "    ###########################################################################\n",
    "    while True:\n",
    "        movieID=input(\"Enter a valid movieID \")\n",
    "        if not(movieID.isnumeric()) or int(movieID) > len(M) or  int(movieID) < 1:\n",
    "            print(\"We are Sorry, this is not a valid movie ID\")\n",
    "            continue\n",
    "        else:\n",
    "            isMovie = -1\n",
    "            user_movieID = int(movieID)\n",
    "            user_movie_name = movieNames[user_movieID]\n",
    "            while True:\n",
    "                isMovie = input(f'Is {user_movie_name} your movie choice?[y/n] ')\n",
    "                if isMovie == 'y':\n",
    "                    break\n",
    "                elif isMovie == 'n':\n",
    "                    print(\"Ok.\")\n",
    "                    break\n",
    "                elif isMovie != 'y' or isMovie != 'n':\n",
    "                    print(\"Sorry, this is not a valid answer. Please answer y or n.\")\n",
    "                    continue\n",
    "            if isMovie == 'y':\n",
    "                break\n",
    "            else:\n",
    "                continue\n",
    "    print(f'The user said he likes movie #\"{user_movieID}\": \"{user_movie_name}\"')\n",
    "    ###########################################################################\n",
    "    #                             END OF YOUR CODE                            #\n",
    "    ###########################################################################\n",
    "    return user_movieID"
   ]
  },
  {
   "cell_type": "code",
   "execution_count": 4,
   "metadata": {},
   "outputs": [
    {
     "name": "stdout",
     "output_type": "stream",
     "text": [
      "Enter a valid movieID 1\n",
      "Is Avatar (2009) your movie choice?[y/n] y\n",
      "The user said he likes movie #\"1\": \"Avatar (2009)\"\n"
     ]
    }
   ],
   "source": [
    "a = GetUserFavoriteMovie()"
   ]
  },
  {
   "cell_type": "markdown",
   "metadata": {
    "nbgrader": {
     "grade": false,
     "grade_id": "cell-6966afc155aa6616",
     "locked": true,
     "schema_version": 1,
     "solution": false
    }
   },
   "source": [
    "Implement **recommendation_alg()** :\n",
    "1. Receive the Rating Matrix & user_movieID\n",
    "1. Return $k$ other movies (not the movie they liked) recomended for him to watch. Recomended movies will be given by full name, not movie id."
   ]
  },
  {
   "cell_type": "code",
   "execution_count": 5,
   "metadata": {},
   "outputs": [],
   "source": [
    "TH = 3"
   ]
  },
  {
   "cell_type": "code",
   "execution_count": 6,
   "metadata": {},
   "outputs": [],
   "source": [
    "def recommendation_alg(M, movieNames, movie_id: int, TH=3, k: int = 3):\n",
    "    '''\n",
    "    Receives a movie the user likes and returns k other movies he might like.\n",
    "    :param M: a ratings matrix\n",
    "    :param movieNames: a movie names matrix\n",
    "    :param TH: the threshold value\n",
    "    :param movie_id: the id of the movie the user likes.\n",
    "    :print the name of the movie id based on the movies list (it is in the same excel document the ratings are)\n",
    "    :return: 3 other movies he might like, by names, not ids\n",
    "    '''\n",
    "    recommendations = []\n",
    "    ###########################################################################\n",
    "    #                            START OF YOUR CODE                           #\n",
    "    ###########################################################################\n",
    "    # Translate the rating matrix to a boolean matrix using TH as a parameter\n",
    "    df = M.copy()\n",
    "    df[df < TH] = 0\n",
    "    df = df > 0\n",
    "    \n",
    "    # Transalting the True / False Matrix to a 1 / 0 matrix\n",
    "    df = df.astype(float)\n",
    "    \n",
    "    # Calculating the absolute value distance of the chosen movie with all other movies\n",
    "    distances = np.abs(df - df.loc[movie_id])\n",
    "    \n",
    "    # Summing up values, sorting and dropping the chosen movie\n",
    "    similarities = distances.sum(axis=1).sort_index().sort_values(kind='stable').drop(movie_id)\n",
    "    similarities = similarities.head(k)\n",
    "    recommendations = list(similarities.index)\n",
    "    recommendations = list(movieNames[recommendations])\n",
    "    ###########################################################################\n",
    "    #                             END OF YOUR CODE                            #\n",
    "    ###########################################################################\n",
    "\n",
    "    assert type(recommendations) is list\n",
    "    assert type(recommendations[0]) is str\n",
    "    return recommendations"
   ]
  },
  {
   "cell_type": "code",
   "execution_count": 7,
   "metadata": {},
   "outputs": [
    {
     "data": {
      "text/plain": [
       "['Harry Potter and the Deathly Hallows, Part 1 (2010)',\n",
       " 'Harry Potter and the Half-Blood Prince (2009)',\n",
       " \"Harry Potter and the Sorcerer's Stone (2001)\"]"
      ]
     },
     "execution_count": 7,
     "metadata": {},
     "output_type": "execute_result"
    }
   ],
   "source": [
    "recommendation_alg(M, movieNames, 15)"
   ]
  },
  {
   "cell_type": "markdown",
   "metadata": {
    "nbgrader": {
     "grade": false,
     "grade_id": "cell-6966afc155aa6616",
     "locked": true,
     "schema_version": 1,
     "solution": false
    }
   },
   "source": [
    "Implement **recommend()**:\n",
    "\n",
    "1. Use the two earlier function you have implemented.\n",
    "\n",
    "**Make sure first match has higher similarity score than the second one.** If it does not, <u>do not</u> submit the work, it is not working ok.\n",
    "\n",
    "Finally, use <i>GetUserFavoriteMovie()</i> to get any movie the user likes and return k=3 other movies as a recommendation."
   ]
  },
  {
   "cell_type": "code",
   "execution_count": 8,
   "metadata": {},
   "outputs": [],
   "source": [
    "def recommend(M, movieNames, TH=3, k: int = 3):\n",
    "    '''\n",
    "    Ask a user input which is a movie the user likes and prints k other movies he might like.\n",
    "    Validates user input.\n",
    "    :param M: a ratings matrix\n",
    "    :param movieNames: a movie names matrix\n",
    "    :param TH: the desired TreshHold\n",
    "    :param k: number of movies to recommend\n",
    "    '''\n",
    "    user_movieID = -1\n",
    "    user_movie = ''\n",
    "    recommendations = []\n",
    "    ###########################################################################\n",
    "    #                            START OF YOUR CODE                           #\n",
    "    ###########################################################################\n",
    "    user_movieID = GetUserFavoriteMovie()\n",
    "    recommendations = recommendation_alg(M, movieNames, user_movieID, TH, k)\n",
    "    ###########################################################################\n",
    "    #                             END OF YOUR CODE                            #\n",
    "    ###########################################################################\n",
    "    print(f'We recommend to watch: {recommendations}')"
   ]
  },
  {
   "cell_type": "markdown",
   "metadata": {
    "nbgrader": {
     "grade": false,
     "grade_id": "cell-6966afc155aa6616",
     "locked": true,
     "schema_version": 1,
     "solution": false
    }
   },
   "source": [
    "test the results using the following movieIDs (we will run it as well):\n",
    "\n",
    "1. MovieID=15 (Harry Potter and the Deathly Hallows, Part 2).\n",
    "\n",
    "1. MovieID=34 (Joker)."
   ]
  },
  {
   "cell_type": "code",
   "execution_count": 9,
   "metadata": {},
   "outputs": [
    {
     "name": "stdout",
     "output_type": "stream",
     "text": [
      "Enter a valid movieID 15\n",
      "Is Harry Potter and the Deathly Hallows, Part 2 (2011) your movie choice?[y/n] y\n",
      "The user said he likes movie #\"15\": \"Harry Potter and the Deathly Hallows, Part 2 (2011)\"\n",
      "We recommend to watch: ['Harry Potter and the Deathly Hallows, Part 1 (2010)', 'Harry Potter and the Half-Blood Prince (2009)', \"Harry Potter and the Sorcerer's Stone (2001)\"]\n",
      "\n",
      "\n",
      "Enter a valid movieID 34\n",
      "Is Joker (2019) your movie choice?[y/n] y\n",
      "The user said he likes movie #\"34\": \"Joker (2019)\"\n",
      "We recommend to watch: ['The Dark Knight (2008)', 'Spider-Man: Far from Home (2019)', 'Spider-Man: No Way Home (2021)']\n"
     ]
    }
   ],
   "source": [
    "###########################################################################\n",
    "#                            START OF YOUR CODE                           #\n",
    "###########################################################################\n",
    "recommend(M, movieNames)\n",
    "print('\\n')\n",
    "recommend(M, movieNames)\n",
    "###########################################################################\n",
    "#                             END OF YOUR CODE                            #\n",
    "###########################################################################"
   ]
  },
  {
   "cell_type": "markdown",
   "metadata": {},
   "source": [
    "## Question 2 (40 points)\n",
    "\n",
    "Write a code that, using **SVD** analysis of the rating matrix, does the following 3 tasks (exactly as explained in class):\n",
    "1. Show X=3 movies most similar to a certain movie\n",
    "1. Shows X=3 users most similar to a certain user (choose yourself as the user and compare to the rest of the class to you).\n",
    "1. Recommend X=3 movies to a user based on the vector representing the user preferences in martix $V^T$ and the movies data in matrix $U$.\n",
    "\n",
    "\n",
    "You can look at the following implementations of SVD analysis to make sure your write the SVD analysis right. Note that the code in these links do **not** do exactly what you are asked to do here. You need to write your own code.\n",
    "\n",
    "1. https://analyticsindiamag.com/singular-value-decomposition-svd-application-recommender-system/\n",
    "\n",
    "1. https://www.section.io/engineering-education/singular-value-decomposition-in-python/"
   ]
  },
  {
   "cell_type": "markdown",
   "metadata": {
    "nbgrader": {
     "grade": false,
     "grade_id": "cell-6966afc155aa6616",
     "locked": true,
     "schema_version": 1,
     "solution": false
    }
   },
   "source": [
    "### 2.1 Using SVD to calculate values in the original rating matrix M (5 points)\n",
    "1. Make sure you use $M$ correctly. $M$ should have **users** as its **colomns** and **movies** as its **raws**.\n",
    "1. Perform SVD on the ratings matrix, $M$. Remember: $U, S, V = np.linalg.svd(M)$ is a built-in function in python.\n",
    "1. Calculate and print column i=1 of $M, M[i]$ using $U, S, V$. \n",
    "1. Calculate and print row j=15 of $M$ using $U, S, V$.\n",
    "\n",
    "If your prints are **not** _excactly_ the same as the original rating matrix column and row, do **not** proceed. Check your code and fix it."
   ]
  },
  {
   "cell_type": "code",
   "execution_count": 10,
   "metadata": {},
   "outputs": [],
   "source": [
    "# Calculated the SVD decomposition of the original rating matrix M.\n",
    "# Make sure the matrix M you work with has for columns the ratings of the users,\n",
    "# i.e. column i has all the ratings of a specific user i for the movies he rated.\n",
    "U, S, V = np.linalg.svd(M)\n",
    "    \n",
    "def calculateSpecificRating(U, S, V, row: int, column: int):\n",
    "\n",
    "    ###########################################################################\n",
    "    #                            START OF YOUR CODE                           #\n",
    "    ###########################################################################\n",
    "     ## Return a zero-matrix with S as main-diagonal\n",
    "    S_matrix = np.diag(S)\n",
    "    S_zero_matrix = np.vstack((np.diag(S), np.zeros((U.shape[0]-np.diag(S).shape[1], np.diag(S).shape[1]))))\n",
    "    P = U @ S_zero_matrix @ V\n",
    "    P[np.isclose(P,0,atol=1e-2)] = 0\n",
    "    r = round(P[row,column],2)\n",
    "    ###########################################################################\n",
    "    #                             END OF YOUR CODE                            #\n",
    "    ###########################################################################\n",
    "    \n",
    "    return (r)  # Returns the rating of user at M 'column' to movie at M 'row'\n",
    "            # this MUST be exactly the value of M(row, column) but *without* having M for the calculation"
   ]
  },
  {
   "cell_type": "code",
   "execution_count": 11,
   "metadata": {},
   "outputs": [],
   "source": [
    "def compareArr(arr1, arr2):\n",
    "    if (arr1 == arr2).all():\n",
    "        print(True)\n",
    "    else:\n",
    "        print(False)"
   ]
  },
  {
   "cell_type": "code",
   "execution_count": 12,
   "metadata": {},
   "outputs": [
    {
     "name": "stdout",
     "output_type": "stream",
     "text": [
      "True\n",
      "[3. 0. 0. 0. 0. 3. 0. 4. 0. 0. 0. 0. 0. 4. 0. 0. 0. 0. 0. 0. 0. 0. 5. 0.\n",
      " 0. 0. 0. 0. 0. 0. 4. 0. 5. 4. 0. 0. 0. 5. 5. 0. 0. 5. 5. 3. 0. 0. 0. 0.\n",
      " 0. 5. 0. 0. 5. 0. 4. 0. 5. 0. 0. 0. 0. 0. 0. 5. 0. 4. 0. 0. 0. 0. 0. 4.\n",
      " 0. 0. 0. 0. 5. 0. 0. 0. 0. 4. 0. 0. 0. 0. 0. 0. 0. 0. 0. 0. 0. 0. 0. 0.\n",
      " 0. 0. 0. 0. 0. 0. 0. 0. 0. 0. 0. 0. 4. 0. 0. 0. 0. 0. 0. 0. 0. 0. 0. 0.\n",
      " 0. 0. 0. 0. 0. 0. 0. 0. 0. 0. 0. 0. 0. 0. 0. 0. 0. 0. 0. 0. 0. 0. 0. 0.\n",
      " 0. 0. 0. 0. 0. 5. 0. 0. 0. 0. 0. 0. 0. 0. 0. 0. 0. 0. 0. 4. 0. 0. 0. 0.\n",
      " 0. 0. 0. 0. 0. 0. 0. 0. 0. 0. 0. 0. 0. 0. 0. 0. 0. 0. 0. 0. 0. 0. 0. 0.\n",
      " 0. 0. 0. 0. 0. 0. 0. 0. 0. 0. 0. 0. 0. 0. 0. 0. 0. 0. 0. 0. 0. 0. 0. 0.\n",
      " 0. 0. 0. 0. 0. 0. 0. 0. 0. 0. 0. 0. 0. 0. 0. 0. 0. 0. 0. 0. 0. 0. 0. 0.\n",
      " 0. 0. 0. 0. 0. 0. 0. 0. 0. 0. 0. 0. 0. 0. 0. 0. 0. 0. 0. 0. 0. 0. 0. 0.\n",
      " 0. 0. 0. 0. 0. 0. 0. 0. 0. 0. 0. 0. 0. 0. 0. 0. 0. 0. 0. 0. 0. 0. 0. 0.\n",
      " 0. 0. 0. 0. 0. 0. 0. 0. 0. 0. 0. 0. 0. 0. 0. 0. 0. 0. 0. 0. 0. 0. 0. 0.\n",
      " 0. 0. 0. 0. 0. 0. 0. 0. 0. 0. 0. 0. 0. 0. 0. 0. 0. 0. 0. 0. 0. 0.]\n",
      "True\n",
      "[0. 0. 3. 0. 0. 0. 0. 3. 0. 0. 2. 4. 0. 0. 5. 0. 0. 0. 4. 0. 4. 0. 0. 3.\n",
      " 0. 0. 0. 0. 0. 0. 0. 0. 0. 0. 0. 0. 0. 0. 0. 0. 1. 0. 0. 0. 0. 0. 0. 0.\n",
      " 0. 0. 0. 0. 0. 3. 0. 0. 0. 0. 0. 5.]\n"
     ]
    }
   ],
   "source": [
    "col1 = []\n",
    "for i in range(len(M)):\n",
    "    col1.append(calculateSpecificRating(U, S, V, i, 1))\n",
    "col1 = np.array(col1)\n",
    "compareArr(col1, M.iloc[:,1].values)\n",
    "print(col1)\n",
    "    \n",
    "row15 = []\n",
    "for i in range(M.shape[1]):\n",
    "    row15.append(calculateSpecificRating(U, S, V, 15, i))\n",
    "row15 = np.array(row15)\n",
    "compareArr(row15, M.iloc[15,:].values)\n",
    "print(row15)"
   ]
  },
  {
   "cell_type": "code",
   "execution_count": 13,
   "metadata": {},
   "outputs": [
    {
     "name": "stdout",
     "output_type": "stream",
     "text": [
      "The Value at M[0,1] is: 3.0, and the value of the function with (0,1) is: 3.0\n",
      "The Value at M[0,0] is: 4.0, and the value of the function with (0,0) is: 4.0\n",
      "The Value at M[1,8] is: 5.0, and the value of the function with (1,8) is: 5.0\n"
     ]
    }
   ],
   "source": [
    "print(f'The Value at M[0,1] is: {M.values[0,1]}, and the value of the function with (0,1) is: {calculateSpecificRating(U,S,V,0,1)}')\n",
    "print(f'The Value at M[0,0] is: {M.values[0,0]}, and the value of the function with (0,0) is: {calculateSpecificRating(U,S,V,0,0)}')\n",
    "print(f'The Value at M[1,8] is: {M.values[1,8]}, and the value of the function with (1,8) is: {calculateSpecificRating(U,S,V,1,8)}')"
   ]
  },
  {
   "cell_type": "markdown",
   "metadata": {
    "nbgrader": {
     "grade": false,
     "grade_id": "cell-6966afc155aa6616",
     "locked": true,
     "schema_version": 1,
     "solution": false
    }
   },
   "source": [
    "### 2.2 Implementing recommendation algorithm using k-elements of SVD analysis of the rating matrix (30 points)\n",
    "Use **cutSVD()** on the matrices $U, S, V$ to keep only the 1st k-columns of $U$, first k-scalars of $S$ and 1st k-rows of $V$. The size of the cut matrices is explained in detail in the class presentation. Use $k=10$ when you run the code. Remember to keep k a parameter in the code that is assinged a value. Do **not** use a number directly in the code. \n",
    "\n",
    "Use the cut matrices U_cut, S_cut, V_cut to do the follwing:\n",
    "1. Show X=3 movies most similar to a certain movie. If the results are not as in question #1, try to change the value of $k$ and see how if effects the results. Discuss shortly the results.\n",
    "1. Shows X=3 users most similar to a certain user (choose yourself as the user and compare to the rest of the class to you). If the results are not as in question #1, try to change the value of $k$ and see how if effects the results. Discuss shortly the results.\n",
    "1. Recommend X=3 movies to a user based on the vector representing the user preferences in martix $V^T$ and the movies data in matrix $U$.\n",
    "\n",
    "**Note**: To decide how similar 2 vectors 1 by k are to each other, choose one of the metrics we saw in class:\n",
    "$$MSE(x,y) = SQRT( (x_1-y_1)^2 + (x_2-y_2)^2 + … + (x_k-y_k)^2)$$\n",
    "$$or$$\n",
    "$$L_1(x,y) = |x_1-y_1| + |x_2-y_2| + … + |x_k-y_k|$$"
   ]
  },
  {
   "cell_type": "code",
   "execution_count": 14,
   "metadata": {},
   "outputs": [],
   "source": [
    "def cutSVD(U, S, V, k):\n",
    "    '''\n",
    "    Receives U, S, V and k and return the cut matrices U_cut, S_cut, V_cut.\n",
    "    :param U: U part of SVD\n",
    "    :param S: S part of SVD\n",
    "    :param V: V part of SVD\n",
    "    :param k: how many parameters from the original matrices to keep\n",
    "    :return: U, S, V that are cut to the desired size\n",
    "    '''\n",
    "    ###########################################################################\n",
    "    #                            START OF YOUR CODE                           #\n",
    "    ###########################################################################\n",
    "    U_cut = U[:, :k]\n",
    "    S_cut = np.diag(S[:k])\n",
    "    V_cut = V[:k, :]\n",
    "    ###########################################################################\n",
    "    #                             END OF YOUR CODE                            #\n",
    "    ###########################################################################\n",
    "    return U_cut, S_cut, V_cut"
   ]
  },
  {
   "cell_type": "code",
   "execution_count": 15,
   "metadata": {},
   "outputs": [],
   "source": [
    "def dist(x, y) -> float:\n",
    "    '''\n",
    "    Calculate the similarity of 2 movies/users.\n",
    "    :param x: movies/users\n",
    "    :param y: movies/users\n",
    "    :return: distance / similarity score\n",
    "    '''\n",
    "    d = 0\n",
    "    ###########################################################################\n",
    "    #                            START OF YOUR CODE                           #\n",
    "    ###########################################################################\n",
    "    d = float((np.square(x - y)).mean())\n",
    "    ###########################################################################\n",
    "    #                             END OF YOUR CODE                            #\n",
    "    ###########################################################################\n",
    "    assert type(d) is float\n",
    "    return d"
   ]
  },
  {
   "cell_type": "code",
   "execution_count": 16,
   "metadata": {},
   "outputs": [],
   "source": [
    "def similarMovies(U_cut, S_cut, V_cut, movieNames, movie_id: int, x: int = 3):\n",
    "    '''\n",
    "    Receives a movie the user likes and returns x movies he might also like.\n",
    "    :param U_cut, S_cut, V_cut: the SVD presentation of the ratings matrix M,\n",
    "    : after is was cut using cutSVD(U, S, V, k)\n",
    "    :param movie_id: the id of the movie the user likes\n",
    "    :param x: number of best results to return\n",
    "    :return: X other movies he might like, by names, not ids\n",
    "    '''\n",
    "    recommendations = []\n",
    "    ###########################################################################\n",
    "    #                            START OF YOUR CODE                           #\n",
    "    ###########################################################################\n",
    "    # Pre process the matrix U_cut to a dataframe\n",
    "    df = pd.DataFrame(U_cut)\n",
    "    df.index += 1\n",
    "    rec = []\n",
    "    \n",
    "    # Calculating the distances between movie_id and every other movie as tuple (movie_id, distance)\n",
    "    for i in range(1, len(df)+1):\n",
    "        rec.append((i,dist(df.loc[i,:], df.loc[movie_id,:])))\n",
    "        \n",
    "    # Sorting by distances and creating the list of recommendations    \n",
    "    \n",
    "    rec = sorted(rec,key=lambda x: x[1])[1:x+1]\n",
    "    rec = list(list(zip(*rec))[0])\n",
    "    recommendations = list(movieNames[rec])\n",
    "    ###########################################################################\n",
    "    #                             END OF YOUR CODE                            #\n",
    "    ###########################################################################\n",
    "    assert type(recommendations) is list\n",
    "    assert type(recommendations[0]) is str\n",
    "    return recommendations"
   ]
  },
  {
   "cell_type": "code",
   "execution_count": 17,
   "metadata": {},
   "outputs": [
    {
     "data": {
      "text/plain": [
       "'Harry Potter and the Deathly Hallows, Part 2 (2011)'"
      ]
     },
     "execution_count": 17,
     "metadata": {},
     "output_type": "execute_result"
    }
   ],
   "source": [
    "movieNames[15]"
   ]
  },
  {
   "cell_type": "code",
   "execution_count": 18,
   "metadata": {},
   "outputs": [
    {
     "data": {
      "text/plain": [
       "['Harry Potter and the Half-Blood Prince (2009)',\n",
       " \"Harry Potter and the Sorcerer's Stone (2001)\",\n",
       " 'Harry Potter and the Deathly Hallows, Part 1 (2010)',\n",
       " 'Harry Potter and the Order of the Phoenix (2007)']"
      ]
     },
     "execution_count": 18,
     "metadata": {},
     "output_type": "execute_result"
    }
   ],
   "source": [
    "U_cut, S_cut, V_cut = cutSVD(U, S, V, 10)\n",
    "similarMovies(U_cut, S_cut, V_cut, movieNames, 15, 4)"
   ]
  },
  {
   "cell_type": "code",
   "execution_count": 19,
   "metadata": {},
   "outputs": [],
   "source": [
    "def similarUsers(U_cut, S_cut, V_cut, userNames, user_id: int, x: int = 3):\n",
    "    '''\n",
    "    Receives a user_id the user likes and returns x other users most similar to this user.\n",
    "    :param U_cut, S_cut, V_cut: the SVD presentation of the ratings matrix M,\n",
    "    : after is was cut using cutSVD(U, S, V, k)\n",
    "    :param user_id: the id of the user analysed\n",
    "    :param x: number of best results to return\n",
    "    :return: X other users most similar to the user, by names, not ids\n",
    "    '''\n",
    "    recommendations = []\n",
    "    ###########################################################################\n",
    "    #                            START OF YOUR CODE                           #\n",
    "    ###########################################################################\n",
    "    rec = []\n",
    "    df = pd.DataFrame(V_cut)\n",
    "    # Calculating the distances between user_id and every other user as tuple (user_id, distance)\n",
    "    for i in range(0,df.shape[1]):\n",
    "        rec.append((i,dist(df.loc[:,i], df.loc[:,user_id])))\n",
    "    \n",
    "    # Sorting by distances and creating the list of recommendations    \n",
    "    rec = sorted(rec,key=lambda x: x[1])[1:x+1] # Sort by second element\n",
    "    rec = list(list(zip(*rec))[0]) # Accesing first value of the tuples\n",
    "    for nameID in rec:\n",
    "        recommendations.append(userNames[nameID])\n",
    "    \n",
    "    ###########################################################################\n",
    "    #                             END OF YOUR CODE                            #\n",
    "    ###########################################################################\n",
    "    assert type(recommendations) is list\n",
    "    assert type(recommendations[0]) is str\n",
    "    return recommendations"
   ]
  },
  {
   "cell_type": "code",
   "execution_count": 20,
   "metadata": {},
   "outputs": [
    {
     "data": {
      "text/plain": [
       "['Adi Z', 'Daniella Z', 'Yuval D']"
      ]
     },
     "execution_count": 20,
     "metadata": {},
     "output_type": "execute_result"
    }
   ],
   "source": [
    "similarUsers(U_cut, S_cut, V_cut, userNames, 14, 3)"
   ]
  },
  {
   "cell_type": "code",
   "execution_count": 21,
   "metadata": {},
   "outputs": [],
   "source": [
    "def SVDFullRecomendationAlgo(U_cut, S_cut, V_cut, user_id: int, movieNames, x: int = 3):\n",
    "    '''\n",
    "    Receives a user_id and returns x movies most recommended to this user\n",
    "    Based on ALL the users preferences as represented in the cut-U-S-V matrices.\n",
    "    :param U_cut, S_cut, V_cut: the SVD presentation of the ratings matrix M,\n",
    "    : after is was cut using cutSVD(U, S, V, k)\n",
    "    :param user_id: the id of the user analysed\n",
    "    :param x: number of best results to return\n",
    "    :return: X most recommended movies he might like, by names, not ids\n",
    "    '''\n",
    "    recommendations = []\n",
    "    ###########################################################################\n",
    "    #                            START OF YOUR CODE                           #\n",
    "    ###########################################################################\n",
    "    dfU = pd.DataFrame(U_cut)\n",
    "    dfV = pd.DataFrame(V_cut)\n",
    "    user = dfV.loc[:,user_id]\n",
    "    dfU.index += 1\n",
    "    rec = []\n",
    "    for i in range(1, len(dfU)+1):\n",
    "        rec.append((i, dfU.loc[i,:] @ user))\n",
    "    rec = sorted(rec,key=lambda x: x[1], reverse=True)[0:x]\n",
    "    rec = list(list(zip(*rec))[0])\n",
    "    recommendations = list(movieNames[rec])\n",
    "    recommendations\n",
    "    ###########################################################################\n",
    "    #                             END OF YOUR CODE                            #\n",
    "    ###########################################################################\n",
    "    assert type(recommendations) is list\n",
    "    assert type(recommendations[0]) is str\n",
    "    return recommendations"
   ]
  },
  {
   "cell_type": "code",
   "execution_count": 22,
   "metadata": {},
   "outputs": [
    {
     "name": "stdout",
     "output_type": "stream",
     "text": [
      "Dor S user number is 14\n",
      "Lior Liv user number is 30\n",
      "\n",
      "Reccomended movies for Dor S:\n",
      "The Lion King (2019)\n",
      "Harry Potter and the Deathly Hallows, Part 2 (2011)\n",
      "Harry Potter and the Sorcerer's Stone (2001)\n",
      "\n",
      "Reccomended movies for Lior Liv:\n",
      "Inception (2010)\n",
      "Forrest Gump (1994)\n",
      "The Matrix (1999)\n"
     ]
    }
   ],
   "source": [
    "print(f'{userNames[14]} user number is 14')\n",
    "print(f'{userNames[30]} user number is 30\\n')\n",
    "\n",
    "print(f'Reccomended movies for {userNames[14]}:')\n",
    "print('\\n'.join(SVDFullRecomendationAlgo(U_cut, S_cut, V_cut, 14, movieNames, 3)))\n",
    "print()\n",
    "print(f'Reccomended movies for {userNames[30]}:')\n",
    "print('\\n'.join(SVDFullRecomendationAlgo(U_cut, S_cut, V_cut, 30, movieNames, 3)))"
   ]
  },
  {
   "cell_type": "markdown",
   "metadata": {
    "nbgrader": {
     "grade": false,
     "grade_id": "cell-6966afc155aa6616",
     "locked": true,
     "schema_version": 1,
     "solution": false
    }
   },
   "source": [
    "### 2.3 Comparisings and discussion (5 points)\n",
    "Submit the same ids as in 1.2 and show the results with the k-cut SVD method. Discuss the difference bewtween the outputs here and from question 1. How many values from the SVD decomposition (ie: what minimum k) gives answers as good as, or better, than the results using the code from question 1?"
   ]
  },
  {
   "cell_type": "code",
   "execution_count": 23,
   "metadata": {},
   "outputs": [
    {
     "name": "stdout",
     "output_type": "stream",
     "text": [
      "The movies simillar to Harry Potter and the Deathly Hallows, Part 2 (2011) with the first algorithm are:\n",
      "Harry Potter and the Deathly Hallows, Part 1 (2010)\n",
      "Harry Potter and the Half-Blood Prince (2009)\n",
      "Harry Potter and the Sorcerer's Stone (2001)\n",
      "\n",
      "The movies simillar to Harry Potter and the Deathly Hallows, Part 2 (2011) with the second algorithm with k=9 are:\n",
      "Harry Potter and the Half-Blood Prince (2009)\n",
      "Harry Potter and the Order of the Phoenix (2007)\n",
      "Harry Potter and the Sorcerer's Stone (2001)\n",
      "\n",
      "The movies simillar to Joker (2019) with the first algorithm are:\n",
      "The Dark Knight (2008)\n",
      "Spider-Man: Far from Home (2019)\n",
      "Spider-Man: No Way Home (2021)\n",
      "\n",
      "The movies simillar to Joker (2019) with the second algorithm with k=9 algorithm are:\n",
      "The Dark Knight (2008)\n",
      "The Dark Knight Rises (2012)\n",
      "Avatar (2009)\n"
     ]
    }
   ],
   "source": [
    "###########################################################################\n",
    "#                            START OF YOUR CODE                           #\n",
    "###########################################################################\n",
    "U_cut, S_cut, V_cut = cutSVD(U, S, V, 9)\n",
    "\n",
    "first_15 = recommendation_alg(M, movieNames, 15)\n",
    "first_34 = recommendation_alg(M, movieNames, 34)\n",
    "sec_15 = similarMovies(U_cut, S_cut, V_cut, movieNames, 15)\n",
    "sec_34 = similarMovies(U_cut, S_cut, V_cut, movieNames, 34)\n",
    "\n",
    "print(f'The movies simillar to {movieNames[15]} with the first algorithm are:')\n",
    "print('\\n'.join(first_15))\n",
    "print()\n",
    "print(f'The movies simillar to {movieNames[15]} with the second algorithm with k=9 are:')\n",
    "print('\\n'.join(sec_15))\n",
    "print()\n",
    "print(f'The movies simillar to {movieNames[34]} with the first algorithm are:')\n",
    "print('\\n'.join(first_34))\n",
    "print()\n",
    "print(f'The movies simillar to {movieNames[34]} with the second algorithm with k=9 algorithm are:')\n",
    "print('\\n'.join(sec_34))\n",
    "###########################################################################\n",
    "#                             END OF YOUR CODE                            #\n",
    "###########################################################################"
   ]
  },
  {
   "cell_type": "markdown",
   "metadata": {},
   "source": [
    "### Answer for 2.3\n",
    "As we can see, with k=9 we get almost the exact results as the algorithm from Q1!<br>\n",
    "All of the reccomendations for Harry Potter gives other Harry Potter kind of movies.<br>\n",
    "For The Joker, the first algorithm returns The Dark Knight and two Spider-Man movies,<br>\n",
    "and the second algorithm returns two The Dark Knoght movies, and Avatar movie as well.<br>\n",
    "We beleive that the both algorithms gave The Joker really good recommendations, which is very good!<br>\n",
    "In general, we have different but similar results with both algorithms."
   ]
  }
 ],
 "metadata": {
  "celltoolbar": "Create Assignment",
  "kernelspec": {
   "display_name": "Python 3",
   "language": "python",
   "name": "python3"
  },
  "language_info": {
   "codemirror_mode": {
    "name": "ipython",
    "version": 3
   },
   "file_extension": ".py",
   "mimetype": "text/x-python",
   "name": "python",
   "nbconvert_exporter": "python",
   "pygments_lexer": "ipython3",
   "version": "3.8.8"
  }
 },
 "nbformat": 4,
 "nbformat_minor": 2
}
